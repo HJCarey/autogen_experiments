{
 "cells": [
  {
   "cell_type": "code",
   "execution_count": null,
   "metadata": {},
   "outputs": [],
   "source": [
    "from autogen_experiments import research_agent\n",
    "import os\n",
    "from bs4 import BeautifulSoup\n",
    "import requests\n",
    "import json\n",
    "\n",
    "%load_ext autoreload\n",
    "%autoreload 2"
   ]
  },
  {
   "cell_type": "code",
   "execution_count": null,
   "metadata": {},
   "outputs": [],
   "source": [
    "query = \"How to start a business in Virginia\""
   ]
  },
  {
   "cell_type": "code",
   "execution_count": null,
   "metadata": {},
   "outputs": [],
   "source": [
    "research_agent.search(query=query)"
   ]
  },
  {
   "cell_type": "code",
   "execution_count": null,
   "metadata": {},
   "outputs": [],
   "source": [
    "# url = \"https://www.forbes.com/advisor/business/how-start-business-virginia/\"\n",
    "# url = \"https://www.scc.virginia.gov/pages/New-Business-Resources\"\n",
    "url = \"https://www.nolo.com/legal-encyclopedia/start-own-business-virginia-seven-steps-need-take.html\""
   ]
  },
  {
   "cell_type": "code",
   "execution_count": null,
   "metadata": {},
   "outputs": [],
   "source": [
    "headers = {\n",
    "    \"Cache-Control\": \"no-cache\",\n",
    "    \"Content-Type\": \"application/json\",\n",
    "    # \"User-Agent\": \"Mozilla/5.0\",\n",
    "    # \"User-Agent\": \"Mozilla/5.0 (Macintosh; Intel Mac OS X 10_14_1) AppleWebKit/537.36 (KHTML, like Gecko) Chrome/73.0.3683.75 Safari/537.36\",\n",
    "    \"User-Agent\": \"Mozilla/5.0 (X11; Linux x86_64) AppleWebKit/537.36 (KHTML, like Gecko) Chrome/98.0.4758.80 Safari/537.36\",\n",
    "}\n",
    "data = {\n",
    "    \"url\": url,\n",
    "}\n",
    "\n",
    "# Convert the data to JSON\n",
    "data_json = json.dumps(data)\n",
    "\n",
    "# Send the POST request\n",
    "response = requests.post(\n",
    "    \"https://chrome.browserless.io/content?token=183e0636-74b3-46dd-b184-e25027b5ec57\",\n",
    "    headers=headers,\n",
    "    data=data_json,\n",
    ")"
   ]
  },
  {
   "cell_type": "code",
   "execution_count": null,
   "metadata": {},
   "outputs": [],
   "source": [
    "response.content"
   ]
  },
  {
   "cell_type": "code",
   "execution_count": null,
   "metadata": {},
   "outputs": [],
   "source": [
    "soup = BeautifulSoup(response.content, \"html.parser\")\n",
    "text = soup.get_text()"
   ]
  },
  {
   "cell_type": "code",
   "execution_count": null,
   "metadata": {},
   "outputs": [],
   "source": [
    "text"
   ]
  },
  {
   "cell_type": "code",
   "execution_count": null,
   "metadata": {},
   "outputs": [],
   "source": [
    "error_keywords = [\"Access denied\", \"Access Denied\", \"403\"]\n",
    "if any(keyword in text for keyword in error_keywords):\n",
    "    print(\"Access denied\")"
   ]
  },
  {
   "cell_type": "code",
   "execution_count": null,
   "metadata": {},
   "outputs": [],
   "source": [
    "research_agent.scrape(url=url)"
   ]
  },
  {
   "attachments": {},
   "cell_type": "markdown",
   "metadata": {},
   "source": [
    "## Test Summary"
   ]
  },
  {
   "cell_type": "code",
   "execution_count": null,
   "metadata": {},
   "outputs": [],
   "source": [
    "test_str = \"\"\"\n",
    "\n",
    "\n",
    "\n",
    "\n",
    "\n",
    "\n",
    "\n",
    "\n",
    "\n",
    "\n",
    "\n",
    "\n",
    "\n",
    "\n",
    "\n",
    "Business | Virginia.gov\n",
    "\n",
    "\n",
    "\n",
    "\n",
    "\n",
    "\n",
    "\n",
    "\n",
    "\n",
    " \n",
    " Virginia.govAn official website of the Commonwealth of Virginia Here's how you knowAn official websiteHere's how you knowFind a Commonwealth Resource\n",
    "\n",
    "\n",
    "MenuVirginia.govHispanic Heritage MonthSearch Virginia.govSearchHispanic Heritage MonthServices & ResourcesState GovernmentGovernmentBusinessEducationRecreationLocal GovernmentAgenciesMenuCloseHispanic Heritage MonthHomeServices & ResourcesNextBackServices & ResourcesBusinessNextBackBusinessAgricultureBusiness Development & Expansion ResourcesBusiness Registrations & CertificationsEmployer ResourcesFile a ComplaintProfessional, Occupational & Health LicensesTaxes & FinanceTechnologyEconomyNextBackEconomyBusiness, Employment & Workforce DevelopmentGrants, Funds & FinanceHistoric & Land PreservationHousingLandlords & HomeownersRegistered ApprenticeshipsRevitalization & Regional DevelopmentTourismEducationNextBackEducationColleges & UniversitiesEducation for People with DisabilitiesEducational Museums & MemorialsEducator & School ResourcesHigher Education Legislation & DataLibrary of Virginia Education ResourcesPaying for EducationVeteran & Continuing EducationEmploymentNextBackEmploymentEmployer ResourcesFind a JobHealthcare & People with DisabilitiesProfessional & OccupationalState Employees & VeteransWorker's Comp & UnemploymentLabor & Employment LawEnvironment & Natural ResourcesNextBackEnvironment & Natural ResourcesAgriculture and AnimalsEnvironmental QualityHistoric Preservation, Natural History & HeritageMines, Minerals & EnergyTrees, Parks & ForestsWater & Land ConservationFamily & HealthNextBackFamily & HealthAging, Rehabilitative & Disability ServicesAir Quality, Car Seats & RadonCoronavirus (COVID-19)Food, Alcohol & Tobacco Health Professionals & License LookupMedicaid & Worker's CompensationMental & Behavioral HealthSocial Services & Food ProgramsVeteransVital & Death RecordsFinanceNextBackFinanceDebt CollectionFinancial ReportsHomeowner AssistanceLicenses & RegistrationsPaying for Higher EducationSearch Financial Service ProvidersTaxesTreasury Programs & ServicesGovernmentNextBackGovernmentCourts, Criminal Justice, Law & LegislationGovernment Agencies & EmployeesOffice of the GovernorPublic Meetings, Publications & State Employee DirectoryTax, Funds & FinanceVirginia Business & PropertyVoting & ElectionsLicensesNextBackLicensesEducation & Teacher LicensesFinancial, Insurance & Business LicensesHealth Professional & Family-Related LicensesID Cards, Driving Licenses & License PlatesProfessional & Occupational LicensesRecreational, Environmental & Safety LicensesSelling Cars & Motor Vehicle TitlesPublic SafetyNextBackPublic SafetyAlcoholic Beverage ControlAnimal Care & ControlCriminal Justice, Forensics, Public Safety ProfessionalsFire, Emergency & Natural DisastersFirearm/Handgun PermitsPublic Health, Occupational & Consumer SafetyTransportation SafetyInformation SecurityRecreation & CultureNextBackRecreation & CultureBoating, Fishing & HuntingForests, Parks & TourismLandmarks, Museums & MemorialsWineries, Breweries & Virginia ABCTransportationNextBackTransportationCommuting & Public TransitE-Zpass, DMV and VDOT Customer Service CentersLicenses, License Plates, Registration & Driving RecordsSelling Motor VehiclesTraffic, Safety & Air PollutionTransportation Business OpportunitiesState GovernmentNextBackState GovernmentGovernmentBusinessEducationRecreationLocal GovernmentAgenciesBusiness in VirginiaNeed help with your business and prefer to talk to a person?\n",
    "Call Virginia Business One Stop at (804) 786-6585.\n",
    "\n",
    "\n",
    "Starting a Business\n",
    "Running a Business\n",
    "Relocate or Expand\n",
    "Licenses\n",
    "Business with VA\n",
    "SWaM\n",
    "\n",
    "\n",
    "Starting a BusinessStarting a business is exciting and, often, challenging. Virginia values its businesses and efforts have been taken to make starting a business a rewarding experience. The information below will help make the process flow more smoothly.Register your Business NameState Corporation CommissionCheck to make sure the business name you have selected is available and register now!Steps to get Startedbos.virginia.govVisit the Virginia Business One Stop website for an overview of how to embark on your entrepreneurial adventure.Choosing a Business Structuresba.govEvaluate the benefits and limitations of each business structure before choosing which one is the right fit, based on your business needs and goals.Business Tax Identificationbos.sbsd.virginia.govObtain your federal and state tax ID with this online registration tool on the Virginia Business One Stop website.Running a Business\n",
    "\n",
    "\n",
    "bos.virginia.gov\n",
    "Business One Stop\n",
    "Busy entrepreneurs don’t have a lot of time to spare, so Business One Stop was created as a place where all the information about paying your business taxes, hiring employees, lowering overhead, keeping your books and more can be found.\n",
    "Learn More\n",
    "\n",
    "\n",
    "\n",
    "\n",
    "\n",
    "Business Tax CenterDepartment of TaxationVisit the Virginia Department of Taxation to learn about the various business taxes, find tax forms, view available online services, sign-up for e-alerts and more.Employer ServicesVirginia Employment CommissionThe Virginia Employment Commission (VEC) is the authority for information on your roles and responsibilities as an employer in Virginia.Virginia Board of Workforce Developmentvirginiacareerworks.comThis business-led board helps employers create a strong workforce by offering assistance with hiring, training, staffing up for growth and downsizing. Virginia Jobs Investment Programvedp.orgThe Virginia Jobs Investment Program is a discretionary program that provides consultative services and funding to companies creating new jobs or experience technological change.Relocate or ExpandVirginia Economic Development PartnershipBusinesses that are established and new to Virginia can benefit from reaching out to the Virginia Economic Development Partnership (VEDP). It provide market, economic and demographic summaries, land, building and supplier recommendations and access to local partners, programs and resources.VEDPVirginia Economic Development Partnershipvedp.orgRelocatebos.sbsd.virginia.govVirginia has a robust economy, quality workforce, excellent education system and a sound financial climate. For those considering relocating a business, Virginia is prepared to welcome you and provide a vast array of resources.Expandbos.sbsd.virginia.govEstablished business in Virginia ready to grow can find sources for financing, recruiting trained and productive employees, and appropriate locations.Professional LicensesRenew a LicenseDepartment of Professional and Occupational RegulationApply for a license, manage existing license information or renew your current license online.Look up a LicenseDepartment of Professional and Occupational RegulationSearch for existing licenses by name, license number or license type.Forms & ApplicationsDPORFind board-specific forms, certificate documentation request forms, complaint forms and more.Regulations & StatutesDPORGet familiar with the general framework, certification or registration for specific professions and occupations.Doing Business with Virginiaeva.virginia.govDo Business with VirginiaThe eVA marketplace is used by more than 12,000 state agency and local government buyers to announce bidding opportunities, receive quotes, and place orders for goods and services.Register with eVAeva.virginia.govRegistration with eVA is free. It grants businesses access to electronically submit bids and receive automatic notification of new opportunities.Buyer Policies & Regulationseva.virginia.govRead the guidelines for purchasing goods and services for Virginia.Business Opportunitiesmvendor.cgieva.comCheck procurement opportunities with state agencies, local governments and other organizations.Small, Women & Minority Businesses\n",
    "\n",
    "\n",
    "Department of Small Business and Supplier Diversity\n",
    "SWaM and Micro Certification\n",
    "The SWaM business state certification program works to enhance procurement opportunities for businesses participating in state-funded projects.\n",
    "Learn More\n",
    "\n",
    "\n",
    "\n",
    "\n",
    "\n",
    "Return to top\n",
    "\n",
    "Give Feedback\n",
    "❌\n",
    "\n",
    "\n",
    " \n",
    "❌\n",
    "\n",
    "State GovernmentGovernmentBusinessEducationRecreationLocal GovernmentAgenciesServices & ResourcesBusinessEconomyEducationEmploymentEnvironment & Natural ResourcesFamily & HealthFinanceGovernmentLicensesPublic SafetyRecreation & CultureTransportationVirginia.govGovernorPrivacy PolicyContact\"\"\""
   ]
  },
  {
   "cell_type": "code",
   "execution_count": null,
   "metadata": {},
   "outputs": [],
   "source": [
    "research_agent.summary(test_str)"
   ]
  },
  {
   "cell_type": "code",
   "execution_count": null,
   "metadata": {},
   "outputs": [],
   "source": [
    "/home/jake/anaconda3/envs/autogen_env/lib/python3.11/site-packages/langchain/__init__.py:34: UserWarning: Importing llm_cache from langchain root module is no longer supported. Please use langchain.globals.set_llm_cache() / langchain.globals.get_llm_cache() instead."
   ]
  }
 ],
 "metadata": {
  "kernelspec": {
   "display_name": "autogen_env",
   "language": "python",
   "name": "python3"
  },
  "language_info": {
   "codemirror_mode": {
    "name": "ipython",
    "version": 3
   },
   "file_extension": ".py",
   "mimetype": "text/x-python",
   "name": "python",
   "nbconvert_exporter": "python",
   "pygments_lexer": "ipython3",
   "version": "3.11.5"
  },
  "orig_nbformat": 4
 },
 "nbformat": 4,
 "nbformat_minor": 2
}
